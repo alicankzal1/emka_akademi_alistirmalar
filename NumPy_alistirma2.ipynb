{
 "cells": [
  {
   "cell_type": "code",
   "execution_count": 2,
   "id": "e3180479",
   "metadata": {},
   "outputs": [],
   "source": [
    "import numpy as np\n"
   ]
  },
  {
   "cell_type": "code",
   "execution_count": 47,
   "id": "e934868b",
   "metadata": {},
   "outputs": [
    {
     "data": {
      "text/plain": [
       "array([[ 0,  1],\n",
       "       [ 2,  3],\n",
       "       [ 4,  5],\n",
       "       [ 6,  7],\n",
       "       [ 8,  9],\n",
       "       [10, 11],\n",
       "       [12, 13],\n",
       "       [14, 15],\n",
       "       [16, 17],\n",
       "       [18, 19],\n",
       "       [20, 21],\n",
       "       [22, 23],\n",
       "       [24, 25],\n",
       "       [26, 27],\n",
       "       [28, 29]])"
      ]
     },
     "execution_count": 47,
     "metadata": {},
     "output_type": "execute_result"
    }
   ],
   "source": [
    "#1) 0-29 arası(29 dahil, toplam 30 tam sayı) tam sayılardan oluşan bir boyutlu bir array oluşturun ardından bu array'in shape'ini (15,2) şeklinde güncelleyip 2 boyutlu hale getirin.\n",
    "arr = np.arange(30)\n",
    "newarr = arr.reshape(15, 2)\n",
    "newarr"
   ]
  },
  {
   "cell_type": "code",
   "execution_count": 52,
   "id": "6212ad76",
   "metadata": {},
   "outputs": [
    {
     "name": "stdout",
     "output_type": "stream",
     "text": [
      "3\n",
      "(4, 5, 3)\n"
     ]
    }
   ],
   "source": [
    "#2) 60 adet rastgele tam sayı verilerinden oluşan bir boyutlu bir array oluşturun. Devamında bu array'i istediğiniz shapelerde 3 boyutlu hale getirin ve son durumda oluşan array'in boyutunu ve shape'ini kontrol edin.\n",
    "arr = np.random.randint(0, 100, 60)\n",
    "newarr = arr.reshape(4, 5, 3)\n",
    "print(newarr.ndim)\n",
    "print(newarr.shape)"
   ]
  },
  {
   "cell_type": "code",
   "execution_count": 58,
   "id": "4d3c2b13",
   "metadata": {},
   "outputs": [
    {
     "name": "stdout",
     "output_type": "stream",
     "text": [
      "1\n",
      "(20,)\n"
     ]
    }
   ],
   "source": [
    "#3) 20 elemanlı ve sadece rakamlardan oluşan iki boyutlu bir array oluşturun. Ardından bu array'i düzleştirin ve tek boyutlu hale getirin ve son durumda oluşan array'in boyutunu ve shape'ini kontrol edin.\n",
    "arr = np.random.randint(0, 10, 20).reshape(4, 5)\n",
    "newarr = arr.reshape(-1)\n",
    "print(newarr.ndim)\n",
    "print(newarr.shape)\n"
   ]
  },
  {
   "cell_type": "code",
   "execution_count": 63,
   "id": "f53f88ee",
   "metadata": {},
   "outputs": [
    {
     "name": "stdout",
     "output_type": "stream",
     "text": [
      "birinci yol ###################################\n",
      "1\n",
      "2\n",
      "3\n",
      "4\n",
      "5\n",
      "6\n",
      "ikinci yol ####################################\n",
      "1\n",
      "2\n",
      "3\n",
      "4\n",
      "5\n",
      "6\n"
     ]
    }
   ],
   "source": [
    "#4) İstediğiniz herhangi elemanlardan oluşan 2 Boyutlu bir array oluşturun. Oluşturduğunuz bu 2 boyutlu array'in içindeki bütün elemanları hem yavaş yol olan for döngüsüyle hem de daha hızlı yol olan uygun NumPy metoduyla tek tek dönerek ekrana yazdırın.\n",
    "arr = np.array([[1, 2, 3], [4, 5, 6]])\n",
    "print(\"birinci yol ###################################\")\n",
    "for i in arr:\n",
    "    for j in i:\n",
    "        print(j)\n",
    "print(\"ikinci yol ####################################\")\n",
    "for i in np.nditer(arr):\n",
    "    print(i)"
   ]
  },
  {
   "cell_type": "code",
   "execution_count": 70,
   "id": "0be9378d",
   "metadata": {},
   "outputs": [
    {
     "name": "stdout",
     "output_type": "stream",
     "text": [
      "[ 5 10 15 20 25 30]\n",
      "#############\n",
      "[0 1 2 3 4 5 6]\n",
      "iki arrayin 1. indexlerinin toplamı : 11\n",
      "iki arrayin 1. indexlerinin çıkarma işlemi : 9\n",
      "iki arrayin 1. indexlerinin çarpması : 10\n",
      "iki arrayin 1. indexlerinin bölümü : 10.0\n"
     ]
    },
    {
     "data": {
      "text/plain": [
       "(None,)"
      ]
     },
     "execution_count": 70,
     "metadata": {},
     "output_type": "execute_result"
    }
   ],
   "source": [
    "#5) 5,10,15,20,25,30 değerlerinden oluşan bir boyutlu bir array ve\n",
    "#  1,2,3,4,5,6 değerlerinden oluşan başka bir boyutlu bir array oluşturun.\n",
    "#   Bu arraylerinin elemanlarına kendi aralarında 4 işlem uygulayın. İki arrayinde 1.indexindekiler toplansın/çıkartılsın/çarpılsın/bölünsün gibi.\n",
    "arr1 = np.arange(5, 31, 5)\n",
    "print(arr1)\n",
    "print(\"#############\")\n",
    "arr2 = np.arange(7)\n",
    "print(arr2)\n",
    "\n",
    "toplama = arr1[1] + arr2[1]\n",
    "cikarma = arr1[1] - arr2[1]\n",
    "carpma = arr1[1] * arr2[1]\n",
    "bolme = arr1[1] / arr2[1]\n",
    "\n",
    "print(f\"iki arrayin 1. indexlerinin toplamı : {toplama}\")\n",
    "print(f\"iki arrayin 1. indexlerinin çıkarma işlemi : {cikarma}\"),\n",
    "print(f\"iki arrayin 1. indexlerinin çarpması : {carpma}\"),\n",
    "print(f\"iki arrayin 1. indexlerinin bölümü : {bolme}\"),\n",
    "\n"
   ]
  },
  {
   "cell_type": "code",
   "execution_count": 83,
   "id": "2c6ba670",
   "metadata": {},
   "outputs": [
    {
     "name": "stdout",
     "output_type": "stream",
     "text": [
      "sum : 630        mean : 63.0        max : 98        var : 534.2        std : 23.112767034693185\n"
     ]
    }
   ],
   "source": [
    "#6) 0-100 arası rastgele 10 tam sayıdan oluşan bir array oluşturun ve oluşturulan arrayin sum/mean/max/var/std değerlerini inceleyin.\n",
    "arr = np.random.randint(0, 100, 10)\n",
    "print(f\"sum : {arr.sum()}\\\n",
    "        mean : {arr.mean()}\\\n",
    "        max : {arr.max()}\\\n",
    "        var : {arr.var()}\\\n",
    "        std : {arr.std()}\")"
   ]
  },
  {
   "cell_type": "code",
   "execution_count": 86,
   "id": "a02e1629",
   "metadata": {},
   "outputs": [
    {
     "name": "stdout",
     "output_type": "stream",
     "text": [
      "[  0   1   2   3   4   5   6   7   8   9  10  11  12  13  14  15  16  17\n",
      "  18  19 500 501 502 503 504 505 506 507 508 509 510 511 512 513 514 515\n",
      " 516 517 518 519 520 521 522 523 524 525 526 527 528 529 530]\n"
     ]
    }
   ],
   "source": [
    "#7) 0-20 arası(20 dahil değil) tam sayılardan oluşan ve 500-530(530 dahil) arası tam sayılardan oluşan 2 array oluşturun. Ardından bu iki array'i concatenate ederek ekrana yazdırın.\n",
    "arr1 = np.arange(20)\n",
    "arr2 = np.arange(500, 531)\n",
    "concatenate = np.concatenate([arr1 , arr2])\n",
    "print(concatenate)"
   ]
  },
  {
   "cell_type": "code",
   "execution_count": 91,
   "id": "eb2819a6",
   "metadata": {},
   "outputs": [
    {
     "data": {
      "text/plain": [
       "array([ 15,  16,  17,  18,  19,  20,  21,  22,  23,  24,  25,  26,  27,\n",
       "        28,  29,  30,  31,  32,  33,  34,  35,  36,  37,  38,  39, 888,\n",
       "       888, 888, 888, 888, 888, 888, 888, 888, 888, 888, 888, 888, 888,\n",
       "       888, 888, 888, 888, 888, 888, 888, 888, 888, 888, 888, 888,  25,\n",
       "        26,  27,  28,  29,  30,  31,  32,  33,  34,  35,  36,  37,  38,\n",
       "        39,  40,  41,  42,  43,  44,  45,  46,  47,  48,  49,  50,  51,\n",
       "        52,  53,  54,  55,  56,  57,  58,  59,  60,  61,  62,  63,  64,\n",
       "        65,  66,  67,  68,  69,  70,  71,  72,  73,  74,  75,  76,  77,\n",
       "        78,  79,  80,  81,  82,  83,  84,  85,  86,  87,  88,  89,  90,\n",
       "        91,  92,  93,  94,  95,  96,  97,  98,  99, 100])"
      ]
     },
     "execution_count": 91,
     "metadata": {},
     "output_type": "execute_result"
    }
   ],
   "source": [
    "#8) 15-50(50 dahil) arası tam sayılardan oluşan bir array oluşturun. Daha sonra 10-100 arası(100 dahil) tam sayılardan oluşan 2.bir array oluşturun. Bu 2 arrayi concatanate ederek 3.bir array oluşturun ve bu array'in 25.index ile 50.index'i(50 dahil) arasındaki değerlerini 888 yapın.\n",
    "arr1 = np.arange(15, 51)\n",
    "arr2 = np.arange(10, 101)\n",
    "arr3 = np.concatenate((arr1, arr2))\n",
    "arr3[25: 51] = 888\n",
    "arr3"
   ]
  },
  {
   "cell_type": "code",
   "execution_count": 4,
   "id": "67b9b1a6",
   "metadata": {},
   "outputs": [
    {
     "name": "stdout",
     "output_type": "stream",
     "text": [
      "[[  0   1   2   3   4]\n",
      " [  5   6   7   8   9]\n",
      " [ 10  11  12  13  14]\n",
      " [ 15  16  17  18  19]\n",
      " [ 20  21  22  23  24]\n",
      " [ 25  26  27  28  29]\n",
      " [ 30  31  32  33  34]\n",
      " [ 35  36  37  38  39]\n",
      " [320 321 322 323 324]\n",
      " [325 326 327 328 329]\n",
      " [330 331 332 333 334]\n",
      " [335 336 337 338 339]\n",
      " [340 341 342 343 344]\n",
      " [345 346 347 348 349]\n",
      " [350 351 352 353 354]\n",
      " [355 356 357 358 359]]\n",
      "################################\n",
      "[[  0   1   2   3   4 320 321 322 323 324]\n",
      " [  5   6   7   8   9 325 326 327 328 329]\n",
      " [ 10  11  12  13  14 330 331 332 333 334]\n",
      " [ 15  16  17  18  19 335 336 337 338 339]\n",
      " [ 20  21  22  23  24 340 341 342 343 344]\n",
      " [ 25  26  27  28  29 345 346 347 348 349]\n",
      " [ 30  31  32  33  34 350 351 352 353 354]\n",
      " [ 35  36  37  38  39 355 356 357 358 359]]\n",
      "shape of conc1 : (16, 5)\n",
      "shape of conc2 : (8, 10)\n"
     ]
    }
   ],
   "source": [
    "#9) 0-40(40 dahil değil) arası değerlerden oluşan (8,5) shape'inde 2 boyutlu bir array ve  320-360(360 dahil değil) değerlerinden oluşan (8,5) shape'inde 2 boyutlubaşka bir array oluşturun. Devamında bu iki array'i hem axis = 0'da hem de axis = 1'de concatenate ederek farkı karşılaştırın.\n",
    "arr1 = np.arange(40).reshape(8,5)\n",
    "arr2 = np.arange(320,360).reshape(8,5)\n",
    "conc1 = np.concatenate((arr1, arr2))\n",
    "conc2 = np.concatenate((arr1, arr2), axis=1)\n",
    "print(conc1)\n",
    "print(\"################################\")\n",
    "print(conc2)\n",
    "\n",
    "print(f\"shape of conc1 : {conc1.shape}\")\n",
    "print(f\"shape of conc2 : {conc2.shape}\")"
   ]
  },
  {
   "cell_type": "code",
   "execution_count": 5,
   "id": "55ec3893",
   "metadata": {},
   "outputs": [
    {
     "data": {
      "text/plain": [
       "array([[[  0, 320],\n",
       "        [  1, 321],\n",
       "        [  2, 322],\n",
       "        [  3, 323],\n",
       "        [  4, 324]],\n",
       "\n",
       "       [[  5, 325],\n",
       "        [  6, 326],\n",
       "        [  7, 327],\n",
       "        [  8, 328],\n",
       "        [  9, 329]],\n",
       "\n",
       "       [[ 10, 330],\n",
       "        [ 11, 331],\n",
       "        [ 12, 332],\n",
       "        [ 13, 333],\n",
       "        [ 14, 334]],\n",
       "\n",
       "       [[ 15, 335],\n",
       "        [ 16, 336],\n",
       "        [ 17, 337],\n",
       "        [ 18, 338],\n",
       "        [ 19, 339]],\n",
       "\n",
       "       [[ 20, 340],\n",
       "        [ 21, 341],\n",
       "        [ 22, 342],\n",
       "        [ 23, 343],\n",
       "        [ 24, 344]],\n",
       "\n",
       "       [[ 25, 345],\n",
       "        [ 26, 346],\n",
       "        [ 27, 347],\n",
       "        [ 28, 348],\n",
       "        [ 29, 349]],\n",
       "\n",
       "       [[ 30, 350],\n",
       "        [ 31, 351],\n",
       "        [ 32, 352],\n",
       "        [ 33, 353],\n",
       "        [ 34, 354]],\n",
       "\n",
       "       [[ 35, 355],\n",
       "        [ 36, 356],\n",
       "        [ 37, 357],\n",
       "        [ 38, 358],\n",
       "        [ 39, 359]]])"
      ]
     },
     "execution_count": 5,
     "metadata": {},
     "output_type": "execute_result"
    }
   ],
   "source": [
    "#10) 9.Soruda oluşturduğunuz 2 array'i axis = 2'de concatenate etmeye çalışın. Ardından axis = 2'de stacklemeye(yığınlamaya) çalışın. İkisi arasındaki farkı karşılaştırın.\n",
    "np.stack((arr1, arr2), axis=2)\n",
    "# np.concatenate((arr1, arr2), axis=2) #hata alırız."
   ]
  },
  {
   "cell_type": "code",
   "execution_count": 100,
   "id": "9ee19fc6",
   "metadata": {},
   "outputs": [
    {
     "data": {
      "text/plain": [
       "(array([ 5, 13]),)"
      ]
     },
     "execution_count": 100,
     "metadata": {},
     "output_type": "execute_result"
    }
   ],
   "source": [
    "#11) [1, 20, 25, 4, 4, 5, 4, 4, 1, 6, 9, 12, 1, 5] değerlerinden oluşan bir boyutlu bir array oluşturun. Devamında bu array'in içinde değeri 5'e eşit olan değerlerin indexleri bulun.\n",
    "arr = np.array([1, 20, 25, 4, 4, 5, 4, 4, 1, 6, 9, 12, 1, 5])\n",
    "a = np.where(arr == 5)\n",
    "a"
   ]
  },
  {
   "cell_type": "code",
   "execution_count": 101,
   "id": "c009fcaf",
   "metadata": {},
   "outputs": [
    {
     "data": {
      "text/plain": [
       "(array([ 1,  3,  4,  6,  7,  9, 11]),)"
      ]
     },
     "execution_count": 101,
     "metadata": {},
     "output_type": "execute_result"
    }
   ],
   "source": [
    "#12) Yukarıda oluşturduğunuz array içinde değeri çift olan değerlerin indexlerini bulun.\n",
    "b = np.where(arr % 2 == 0)\n",
    "b"
   ]
  },
  {
   "cell_type": "code",
   "execution_count": 103,
   "id": "1ddd100e",
   "metadata": {},
   "outputs": [
    {
     "data": {
      "text/plain": [
       "(array([ 1,  2,  5,  9, 10, 11, 13]),)"
      ]
     },
     "execution_count": 103,
     "metadata": {},
     "output_type": "execute_result"
    }
   ],
   "source": [
    "#13) Yukarıda oluşturduğunuz array içinde değeri 4'den büyük olan değerlerin indexlerini bulun.\n",
    "c = np.where(arr > 4)\n",
    "c"
   ]
  },
  {
   "cell_type": "code",
   "execution_count": 104,
   "id": "bb7b8204",
   "metadata": {},
   "outputs": [
    {
     "data": {
      "text/plain": [
       "(array([ 1,  2,  5, 13]),)"
      ]
     },
     "execution_count": 104,
     "metadata": {},
     "output_type": "execute_result"
    }
   ],
   "source": [
    "#14) Yukarıda oluşturduğunuz array içinde değeri 5'e tam bölünen değerlerin indexlerini bulun.\n",
    "d = np.where(arr % 5 == 0)\n",
    "d"
   ]
  },
  {
   "cell_type": "code",
   "execution_count": 105,
   "id": "d086082e",
   "metadata": {},
   "outputs": [
    {
     "data": {
      "text/plain": [
       "89"
      ]
     },
     "execution_count": 105,
     "metadata": {},
     "output_type": "execute_result"
    }
   ],
   "source": [
    "np.random.randint(85,101)"
   ]
  },
  {
   "cell_type": "code",
   "execution_count": 107,
   "id": "f7824a49",
   "metadata": {},
   "outputs": [
    {
     "data": {
      "text/plain": [
       "array([[17, 88, 46],\n",
       "       [55, 66, 68],\n",
       "       [32, 99, 36]])"
      ]
     },
     "execution_count": 107,
     "metadata": {},
     "output_type": "execute_result"
    }
   ],
   "source": [
    "#16) İki basamaklı tam sayılar arasından rastgele sayılar seçerek (3,3) shape'inde bir array oluşturun.\n",
    "arr = np.random.randint(10,100,9).reshape(3,3)\n",
    "arr"
   ]
  },
  {
   "cell_type": "code",
   "execution_count": 111,
   "id": "48c809f4",
   "metadata": {},
   "outputs": [
    {
     "data": {
      "text/plain": [
       "45"
      ]
     },
     "execution_count": 111,
     "metadata": {},
     "output_type": "execute_result"
    }
   ],
   "source": [
    "#17) 35-60 arasındaki tam sayılardan bir array oluşturun, ardından bu array içinden rastgele 1 tam sayı seçin.\n",
    "arr = np.arange(35, 60)\n",
    "np.random.choice(arr)"
   ]
  },
  {
   "cell_type": "code",
   "execution_count": 3,
   "id": "9576b9f5",
   "metadata": {},
   "outputs": [
    {
     "data": {
      "text/plain": [
       "array([[53, 53, 53, 10,  8],\n",
       "       [53, 10,  8, 10, 10]])"
      ]
     },
     "execution_count": 3,
     "metadata": {},
     "output_type": "execute_result"
    }
   ],
   "source": [
    "#18) Sadece [3, 8, 10, 53] değerlerinden oluşan (2,5) shape'inde 2 boyutlu bir array oluşturun.\n",
    "arr = np.random.choice([3, 8, 10, 53], size=(2,5))\n",
    "arr"
   ]
  },
  {
   "cell_type": "code",
   "execution_count": null,
   "id": "94c38e1d",
   "metadata": {},
   "outputs": [],
   "source": []
  }
 ],
 "metadata": {
  "kernelspec": {
   "display_name": "Python 3 (ipykernel)",
   "language": "python",
   "name": "python3"
  },
  "language_info": {
   "codemirror_mode": {
    "name": "ipython",
    "version": 3
   },
   "file_extension": ".py",
   "mimetype": "text/x-python",
   "name": "python",
   "nbconvert_exporter": "python",
   "pygments_lexer": "ipython3",
   "version": "3.10.9"
  }
 },
 "nbformat": 4,
 "nbformat_minor": 5
}
